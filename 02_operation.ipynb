{
 "cells": [
  {
   "cell_type": "code",
   "execution_count": 1,
   "metadata": {
    "collapsed": true
   },
   "outputs": [],
   "source": [
    "import tensorflow as tf"
   ]
  },
  {
   "cell_type": "code",
   "execution_count": 7,
   "metadata": {},
   "outputs": [
    {
     "name": "stdout",
     "output_type": "stream",
     "text": [
      "10\n",
      "4\n",
      "21\n",
      "2.33333333333\n"
     ]
    }
   ],
   "source": [
    "a = tf.constant(7)\n",
    "b = tf.constant(3)\n",
    "addOp = tf.add(a,b)\n",
    "subOp = tf.subtract(a,b)\n",
    "multiplyOp = tf.multiply(a,b)\n",
    "divideOp = tf.divide(a,b)\n",
    "with tf.Session() as sess:\n",
    "    print(sess.run(addOp))\n",
    "    print(sess.run(subOp))\n",
    "    print(sess.run(multiplyOp))\n",
    "    print(sess.run(divideOp))"
   ]
  },
  {
   "cell_type": "code",
   "execution_count": 11,
   "metadata": {},
   "outputs": [
    {
     "name": "stdout",
     "output_type": "stream",
     "text": [
      "10\n",
      "4\n",
      "21\n",
      "2.33333333333\n",
      "sess.run(copyOp) 10\n",
      "copyOp.eval() 17\n",
      "tf.get_default_session().run(copyOp) 24\n"
     ]
    }
   ],
   "source": [
    "a = tf.constant(7)\n",
    "b = tf.Variable(3)\n",
    "addOp = tf.add(a,b)\n",
    "copyOp = tf.assign(b,addOp) #将addOp的值付给b ；b=10\n",
    "subOp = tf.subtract(a,b) \n",
    "multiplyOp = tf.multiply(a,b)\n",
    "divideOp = tf.divide(a,b)\n",
    "init = tf.global_variables_initializer()\n",
    "with tf.Session() as sess:\n",
    "    sess.run(init)\n",
    "    print(sess.run(addOp))\n",
    "    print(sess.run(subOp))\n",
    "    print(sess.run(multiplyOp))\n",
    "    print(sess.run(divideOp))\n",
    "    print('sess.run(copyOp)',sess.run(copyOp))\n",
    "    print('copyOp.eval()',copyOp.eval())\n",
    "    print('tf.get_default_session().run(copyOp)',tf.get_default_session().run(copyOp))"
   ]
  },
  {
   "cell_type": "code",
   "execution_count": null,
   "metadata": {
    "collapsed": true
   },
   "outputs": [],
   "source": []
  }
 ],
 "metadata": {
  "kernelspec": {
   "display_name": "Python 3",
   "language": "python",
   "name": "python3"
  },
  "language_info": {
   "codemirror_mode": {
    "name": "ipython",
    "version": 3
   },
   "file_extension": ".py",
   "mimetype": "text/x-python",
   "name": "python",
   "nbconvert_exporter": "python",
   "pygments_lexer": "ipython3",
   "version": "3.5.4"
  }
 },
 "nbformat": 4,
 "nbformat_minor": 2
}
