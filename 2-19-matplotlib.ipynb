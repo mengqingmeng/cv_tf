{
 "cells": [
  {
   "cell_type": "code",
   "execution_count": 93,
   "metadata": {
    "collapsed": true
   },
   "outputs": [],
   "source": [
    "import tensorflow as tf"
   ]
  },
  {
   "cell_type": "code",
   "execution_count": 94,
   "metadata": {
    "collapsed": true
   },
   "outputs": [],
   "source": [
    "import numpy as np"
   ]
  },
  {
   "cell_type": "code",
   "execution_count": 95,
   "metadata": {
    "collapsed": true
   },
   "outputs": [],
   "source": [
    "import matplotlib.pyplot as plt"
   ]
  },
  {
   "cell_type": "code",
   "execution_count": 96,
   "metadata": {
    "collapsed": true
   },
   "outputs": [],
   "source": [
    "dates = np.array(range(9))"
   ]
  },
  {
   "cell_type": "code",
   "execution_count": 97,
   "metadata": {
    "collapsed": true
   },
   "outputs": [],
   "source": [
    "beginPrice = np.array([112,103,120,156,132,145,223,215,314])"
   ]
  },
  {
   "cell_type": "code",
   "execution_count": 98,
   "metadata": {
    "collapsed": true
   },
   "outputs": [],
   "source": [
    "endPrice = np.array([108,112,145,110,131,125,152,178,236])"
   ]
  },
  {
   "cell_type": "code",
   "execution_count": 99,
   "metadata": {},
   "outputs": [],
   "source": [
    "plt.figure()\n",
    "for i in range(len(dates)):\n",
    "    x = np.zeros(2)\n",
    "    y = np.zeros(2)\n",
    "    x[0] = i\n",
    "    x[1] = i\n",
    "    y[0] = beginPrice[i]\n",
    "    y[1] = endPrice[i]\n",
    "    if(beginPrice[i]<endPrice[i]):\n",
    "        plt.plot(x,y,'r',lw=8)\n",
    "    else:\n",
    "        plt.plot(x,y,'g',lw=8)\n",
    "#plt.show()"
   ]
  },
  {
   "cell_type": "code",
   "execution_count": 100,
   "metadata": {},
   "outputs": [
    {
     "name": "stdout",
     "output_type": "stream",
     "text": [
      "(?, 5)\n"
     ]
    }
   ],
   "source": [
    "dateNormal = np.zeros([9,1])\n",
    "priceNormal = np.zeros([9,1])\n",
    "for i in range(len(dates)):\n",
    "    dateNormal[i,0] = i/9.0\n",
    "    priceNormal[i,0] = endPrice[i]/236.0\n",
    "\n",
    "x = tf.placeholder(tf.float32,[None,1])\n",
    "y = tf.placeholder(tf.float32,[None,1])\n",
    "\n",
    "w1 = tf.Variable(tf.random_uniform([1, 5],0,1))\n",
    "b1 = tf.Variable(tf.zeros([1,5]))\n",
    "wb1 = tf.matmul(x,w1) + b1\n",
    "layer1 = tf.nn.relu(wb1) #第一层输出\n",
    "print(layer1.shape)"
   ]
  },
  {
   "cell_type": "code",
   "execution_count": 101,
   "metadata": {},
   "outputs": [],
   "source": [
    "w2 = tf.Variable(tf.random_uniform([5,1],0,1))\n",
    "b2 = tf.Variable(tf.zeros([9,1]))\n",
    "wb2 = tf.matmul(layer1,w2) + b2\n",
    "layer2 = tf.nn.relu(wb2)"
   ]
  },
  {
   "cell_type": "code",
   "execution_count": 102,
   "metadata": {
    "collapsed": true
   },
   "outputs": [],
   "source": [
    "loss = tf.reduce_mean(tf.square(y-layer2))"
   ]
  },
  {
   "cell_type": "code",
   "execution_count": 103,
   "metadata": {
    "collapsed": true
   },
   "outputs": [],
   "source": [
    "train_step = tf.train.GradientDescentOptimizer(0.1).minimize(loss)"
   ]
  },
  {
   "cell_type": "code",
   "execution_count": 104,
   "metadata": {},
   "outputs": [
    {
     "name": "stdout",
     "output_type": "stream",
     "text": [
      "108.0\n",
      "112.0\n",
      "145.0\n",
      "110.0\n",
      "131.0\n",
      "125.0\n",
      "152.0\n",
      "178.0\n",
      "236.0\n"
     ]
    },
    {
     "data": {
      "image/png": "[encoded data removed]",
      "text/plain": [
       "<matplotlib.figure.Figure at 0x160812a0d68>"
      ]
     },
     "metadata": {},
     "output_type": "display_data"
    }
   ],
   "source": [
    "with tf.Session()  as sess:\n",
    "    init = tf.global_variables_initializer()\n",
    "    sess.run(init)\n",
    "    for i in range(10000):\n",
    "        sess.run(train_step,feed_dict={x:dateNormal,y:priceNormal})\n",
    "    pred = sess.run(layer2,feed_dict={x:dateNormal})\n",
    "    predPrice = np.zeros([9,1])\n",
    "    for i in range(len(dates)):\n",
    "        print((pred*236)[i,0])\n",
    "        predPrice[i,0] = (pred*236)[i,0]\n",
    "        \n",
    "    plt.plot(dates,predPrice,'b',lw=1)\n",
    "plt.show()"
   ]
  },
  {
   "cell_type": "code",
   "execution_count": null,
   "metadata": {
    "collapsed": true
   },
   "outputs": [],
   "source": []
  }
 ],
 "metadata": {
  "kernelspec": {
   "display_name": "Python 3",
   "language": "python",
   "name": "python3"
  },
  "language_info": {
   "codemirror_mode": {
    "name": "ipython",
    "version": 3
   },
   "file_extension": ".py",
   "mimetype": "text/x-python",
   "name": "python",
   "nbconvert_exporter": "python",
   "pygments_lexer": "ipython3",
   "version": "3.5.4"
  }
 },
 "nbformat": 4,
 "nbformat_minor": 2
}
